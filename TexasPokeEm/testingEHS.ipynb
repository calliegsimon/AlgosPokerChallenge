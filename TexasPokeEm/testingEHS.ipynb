{
 "cells": [
  {
   "cell_type": "markdown",
   "id": "29f80b1f",
   "metadata": {},
   "source": [
    "# Effective Hand Strength -- Testing & Expected Outputs"
   ]
  },
  {
   "cell_type": "code",
   "execution_count": 1,
   "id": "aa6378fa",
   "metadata": {},
   "outputs": [],
   "source": [
    "import handstrength as hs"
   ]
  },
  {
   "cell_type": "code",
   "execution_count": 2,
   "id": "de38fafd",
   "metadata": {},
   "outputs": [],
   "source": [
    "\n",
    "#dictionary to store hand ranks needed for EHS\n",
    "# referenced from: https://www.kaggle.com/datasets/camillahorne/poker-hands?select=ranked_poker_hands.csv\n",
    "# ^ they also have all the possible permutations\n",
    "handRanks = {\n",
    "    #EHS needs handranks sorted weakest to strongest, ie strongest rank has highest val\n",
    "    9 : \"Royal Flush\",\n",
    "    8 : \"Straight Flush\",\n",
    "    7 : \"Four of a Kind\",\n",
    "    6 : \"Full House\",\n",
    "    5 :\"Flush\",\n",
    "    4 : \"Straight\",\n",
    "    3 : \"Three of a Kind\",\n",
    "    2 : \"Two Pair\",\n",
    "    1: \"Pair\",\n",
    "    0: \"High Card\"\n",
    "}\n",
    "\n",
    "# we are going to assign card ranks to values for ease of comparison.\n",
    "# global!\n",
    "rankValues = {\n",
    "    'A': 14,\n",
    "    'K': 13,\n",
    "    'Q': 12,\n",
    "    'J': 11,\n",
    "    'T': 10,\n",
    "    '9': 9,\n",
    "    '8': 8,\n",
    "    '7': 7,\n",
    "    '6': 6,\n",
    "    '5': 5,\n",
    "    '4': 4,\n",
    "    '3': 3,\n",
    "    '2': 2\n",
    "}\n",
    "\n",
    "# here we are making our \n",
    "ranks = ['2', '3', '4', '5', '6', '7', '8', '9', 'T', 'J', 'Q', 'K', 'A']\n",
    "suits = ['h', 'd', 'c', 's']  # hearts, diamonds, clubs, spades\n",
    "\n",
    "deck = [rank + suit for rank in ranks for suit in suits]"
   ]
  },
  {
   "cell_type": "markdown",
   "id": "1b29317b",
   "metadata": {},
   "source": [
    "## Testing Utility Functions Here\n",
    "### Type Hand Testing\n",
    "- hands need to be converted to tuples\n",
    "- input is the tuple that represents the hand\n",
    "- output will be the number corresponding to the ranking of the hands\n",
    "\n",
    "Ranking of Hands:\n",
    "-    9 : \"Royal Flush\",\n",
    "-    8 : \"Straight Flush\",\n",
    "-    7 : \"Four of a Kind\",\n",
    "-    6 : \"Full House\",\n",
    "-    5 :\"Flush\",\n",
    "-    4 : \"Straight\",\n",
    "-    3 : \"Three of a Kind\",\n",
    "-    2 : \"Two Pair\",\n",
    "-    1: \"Pair\",\n",
    "-    0: \"High Card\""
   ]
  },
  {
   "cell_type": "code",
   "execution_count": 3,
   "id": "bbe5252b",
   "metadata": {},
   "outputs": [
    {
     "name": "stdout",
     "output_type": "stream",
     "text": [
      "7\n"
     ]
    }
   ],
   "source": [
    "# testing typ hand\n",
    "fourKind = tuple(['2h','2s','2c', '2d', 'As'])\n",
    "print(hs.type_hand(fourKind))\n"
   ]
  },
  {
   "cell_type": "code",
   "execution_count": 4,
   "id": "2119949e",
   "metadata": {},
   "outputs": [
    {
     "name": "stdout",
     "output_type": "stream",
     "text": [
      "6\n"
     ]
    }
   ],
   "source": [
    "fullHouse = tuple(['Ah', 'Ac', 'Ad', '8h', '8d'])\n",
    "print(hs.type_hand(fullHouse))"
   ]
  },
  {
   "cell_type": "code",
   "execution_count": 15,
   "id": "5017bc40",
   "metadata": {},
   "outputs": [
    {
     "name": "stdout",
     "output_type": "stream",
     "text": [
      "4\n"
     ]
    }
   ],
   "source": [
    "straight = tuple(['3h','4h','5d', '6c','7c'])\n",
    "print(hs.type_hand(straight))"
   ]
  },
  {
   "cell_type": "markdown",
   "id": "0023d293",
   "metadata": {},
   "source": [
    "## Testing Highest Possible Hand\n",
    "- evaluates the best possible 5 card hand from ourcards and tablecards\n"
   ]
  },
  {
   "cell_type": "code",
   "execution_count": 5,
   "id": "361ddecf",
   "metadata": {},
   "outputs": [
    {
     "name": "stdout",
     "output_type": "stream",
     "text": [
      "9\n"
     ]
    }
   ],
   "source": [
    "hole1 = ['Ah', 'Kh']\n",
    "table1 = ['Qh', 'Jh', 'Th', '9s', '8s']\n",
    "\n",
    "print(hs.highest_possible_hand(hole1, table1))"
   ]
  },
  {
   "cell_type": "code",
   "execution_count": 6,
   "id": "00964142",
   "metadata": {},
   "outputs": [
    {
     "name": "stdout",
     "output_type": "stream",
     "text": [
      "7\n"
     ]
    }
   ],
   "source": [
    "hole2 = ['7h','7d']\n",
    "table2 = ['7c','7s', 'Ah', 'Kd']\n",
    "\n",
    "print(hs.highest_possible_hand(hole2, table2))"
   ]
  },
  {
   "cell_type": "code",
   "execution_count": 7,
   "id": "1dbfdc6f",
   "metadata": {},
   "outputs": [
    {
     "name": "stdout",
     "output_type": "stream",
     "text": [
      "1\n"
     ]
    }
   ],
   "source": [
    "hole3 = ['Ah', 'Ad']\n",
    "table3 = ['3d', 'Ts', '7h']\n",
    "\n",
    "print(hs.highest_possible_hand(hole3, table3))"
   ]
  },
  {
   "cell_type": "markdown",
   "id": "6a91199b",
   "metadata": {},
   "source": [
    "## Testing Hand Strength Calc\n",
    "- gonna test with a few different strengths of hands\n",
    "- HS enumerates all possible opponent hand cards and counts the occurrneces where \n",
    "    ours is the strongest (+50 of cases where we are tied) "
   ]
  },
  {
   "cell_type": "code",
   "execution_count": 8,
   "id": "c2616924",
   "metadata": {},
   "outputs": [
    {
     "name": "stdout",
     "output_type": "stream",
     "text": [
      "0.82\n"
     ]
    }
   ],
   "source": [
    "# this should be a strong start hand for a preflop\n",
    "hole4 = ['Ah', 'Ad']\n",
    "table4 = []\n",
    "\n",
    "print(hs.hand_strength(hole4, table4))"
   ]
  },
  {
   "cell_type": "code",
   "execution_count": 9,
   "id": "959d7085",
   "metadata": {},
   "outputs": [
    {
     "name": "stdout",
     "output_type": "stream",
     "text": [
      "0.3001850138760407\n"
     ]
    }
   ],
   "source": [
    "# not a good start for a preflop, should be fairly low\n",
    "hole5 = ['3s', '8d']\n",
    "table5 = ['Jd', 'As', '5h']\n",
    "\n",
    "print(hs.hand_strength(hole5, table5))"
   ]
  },
  {
   "cell_type": "code",
   "execution_count": 10,
   "id": "f353a263",
   "metadata": {},
   "outputs": [
    {
     "name": "stdout",
     "output_type": "stream",
     "text": [
      "0.39714285714285713\n"
     ]
    }
   ],
   "source": [
    "hole6 = ['7h', '2d']\n",
    "table6 = []\n",
    "\n",
    "print(hs.hand_strength(hole6, table6))"
   ]
  },
  {
   "cell_type": "markdown",
   "id": "1a55a1ec",
   "metadata": {},
   "source": [
    "## Testing Hand Potential\n",
    "- potential for our hand to improve or deteroiate\n",
    "Note for p_pot greater than 0.3 is typically pretty high for below since we account for the chance to grow"
   ]
  },
  {
   "cell_type": "code",
   "execution_count": 13,
   "id": "eef129ce",
   "metadata": {},
   "outputs": [
    {
     "name": "stdout",
     "output_type": "stream",
     "text": [
      "p_pot: 0.29941972920696325\n",
      "n_pot:0.06436709156277723\n"
     ]
    }
   ],
   "source": [
    "hole7 = ['Ah', '2h']\n",
    "table7 = ['Kh', '5h', '9c']\n",
    "p_pot, n_pot = hs.hand_potential(hole7, table7)\n",
    "print(f'p_pot: {p_pot}\\nn_pot:{n_pot}')"
   ]
  },
  {
   "cell_type": "code",
   "execution_count": 14,
   "id": "7ab97ebe",
   "metadata": {},
   "outputs": [
    {
     "name": "stdout",
     "output_type": "stream",
     "text": [
      "p_pot: 0.06128678085199824\n",
      "n_pot:0.06299840510366826\n"
     ]
    }
   ],
   "source": [
    "hole8 = ['9h', 'Th']\n",
    "table8 = ['Jc', 'Qd', '2s', '5c']\n",
    "p_pot, n_pot = hs.hand_potential(hole8, table8)\n",
    "print(f'p_pot: {p_pot}\\nn_pot:{n_pot}')"
   ]
  }
 ],
 "metadata": {
  "kernelspec": {
   "display_name": "Python 3",
   "language": "python",
   "name": "python3"
  },
  "language_info": {
   "codemirror_mode": {
    "name": "ipython",
    "version": 3
   },
   "file_extension": ".py",
   "mimetype": "text/x-python",
   "name": "python",
   "nbconvert_exporter": "python",
   "pygments_lexer": "ipython3",
   "version": "3.12.4"
  }
 },
 "nbformat": 4,
 "nbformat_minor": 5
}

{
 "cells": [
  {
   "cell_type": "markdown",
   "id": "29f80b1f",
   "metadata": {},
   "source": []
  },
  {
   "cell_type": "code",
   "execution_count": null,
   "id": "aa6378fa",
   "metadata": {},
   "outputs": [],
   "source": [
    "from TexasPokeEm import handstrength as hs"
   ]
  },
  {
   "cell_type": "code",
   "execution_count": null,
   "id": "b696b4f2",
   "metadata": {},
   "outputs": [],
   "source": [
    "# make a dummy hand to test\n"
   ]
  },
  {
   "cell_type": "code",
   "execution_count": null,
   "id": "1dab6f9f",
   "metadata": {},
   "outputs": [],
   "source": []
  }
 ],
 "metadata": {
  "kernelspec": {
   "display_name": "Python 3",
   "language": "python",
   "name": "python3"
  },
  "language_info": {
   "codemirror_mode": {
    "name": "ipython",
    "version": 3
   },
   "file_extension": ".py",
   "mimetype": "text/x-python",
   "name": "python",
   "nbconvert_exporter": "python",
   "pygments_lexer": "ipython3",
   "version": "3.12.4"
  }
 },
 "nbformat": 4,
 "nbformat_minor": 5
}

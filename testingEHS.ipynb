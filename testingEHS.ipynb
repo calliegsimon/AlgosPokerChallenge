{
 "cells": [
  {
   "cell_type": "markdown",
   "id": "29f80b1f",
   "metadata": {},
   "source": [
    "# Effective Hand Strength -- Testing & Expected Outputs"
   ]
  },
  {
   "cell_type": "code",
   "execution_count": 26,
   "id": "aa6378fa",
   "metadata": {},
   "outputs": [],
   "source": [
    "from TexasPokeEm import handstrength as hs"
   ]
  },
  {
   "cell_type": "code",
   "execution_count": 27,
   "id": "de38fafd",
   "metadata": {},
   "outputs": [],
   "source": [
    "\n",
    "#dictionary to store hand ranks needed for EHS\n",
    "# referenced from: https://www.kaggle.com/datasets/camillahorne/poker-hands?select=ranked_poker_hands.csv\n",
    "# ^ they also have all the possible permutations\n",
    "handRanks = {\n",
    "    #EHS needs handranks sorted weakest to strongest, ie strongest rank has highest val\n",
    "    9 : \"Royal Flush\",\n",
    "    8 : \"Straight Flush\",\n",
    "    7 : \"Four of a Kind\",\n",
    "    6 : \"Full House\",\n",
    "    5 :\"Flush\",\n",
    "    4 : \"Straight\",\n",
    "    3 : \"Three of a Kind\",\n",
    "    2 : \"Two Pair\",\n",
    "    1: \"Pair\",\n",
    "    0: \"High Card\"\n",
    "}\n",
    "\n",
    "# we are going to assign card ranks to values for ease of comparison.\n",
    "# global!\n",
    "rankValues = {\n",
    "    'A': 14,\n",
    "    'K': 13,\n",
    "    'Q': 12,\n",
    "    'J': 11,\n",
    "    'T': 10,\n",
    "    '9': 9,\n",
    "    '8': 8,\n",
    "    '7': 7,\n",
    "    '6': 6,\n",
    "    '5': 5,\n",
    "    '4': 4,\n",
    "    '3': 3,\n",
    "    '2': 2\n",
    "}\n",
    "\n",
    "# here we are making our \n",
    "ranks = ['2', '3', '4', '5', '6', '7', '8', '9', 'T', 'J', 'Q', 'K', 'A']\n",
    "suits = ['h', 'd', 'c', 's']  # hearts, diamonds, clubs, spades\n",
    "\n",
    "deck = [rank + suit for rank in ranks for suit in suits]"
   ]
  },
  {
   "cell_type": "markdown",
   "id": "1b29317b",
   "metadata": {},
   "source": [
    "## Testing Utility Functions Here\n",
    "### Type Hand Testing\n",
    "- hands need to be converted to tuples\n",
    "- input is the tuple that represents the hand\n",
    "- output will be the number corresponding to the ranking of the hands\n",
    "\n",
    "Ranking of Hands:\n",
    "-    9 : \"Royal Flush\",\n",
    "-    8 : \"Straight Flush\",\n",
    "-    7 : \"Four of a Kind\",\n",
    "-    6 : \"Full House\",\n",
    "-    5 :\"Flush\",\n",
    "-    4 : \"Straight\",\n",
    "-    3 : \"Three of a Kind\",\n",
    "-    2 : \"Two Pair\",\n",
    "-    1: \"Pair\",\n",
    "-    0: \"High Card\""
   ]
  },
  {
   "cell_type": "code",
   "execution_count": 28,
   "id": "bbe5252b",
   "metadata": {},
   "outputs": [
    {
     "name": "stdout",
     "output_type": "stream",
     "text": [
      "7\n"
     ]
    }
   ],
   "source": [
    "# testing typ hand\n",
    "fourKind = tuple(['2h','2s','2c', '2d', 'As'])\n",
    "print(hs.type_hand(fourKind))\n"
   ]
  },
  {
   "cell_type": "code",
   "execution_count": 29,
   "id": "2119949e",
   "metadata": {},
   "outputs": [
    {
     "name": "stdout",
     "output_type": "stream",
     "text": [
      "6\n"
     ]
    }
   ],
   "source": [
    "fullHouse = tuple(['Ah', 'Ac', 'Ad', '8h', '8d'])\n",
    "print(hs.type_hand(fullHouse))"
   ]
  },
  {
   "cell_type": "markdown",
   "id": "0023d293",
   "metadata": {},
   "source": [
    "## Testing Highest Possible Hand\n",
    "- evaluates the best possible 5 card hand from ourcards and tablecards\n"
   ]
  },
  {
   "cell_type": "code",
   "execution_count": 31,
   "id": "361ddecf",
   "metadata": {},
   "outputs": [
    {
     "name": "stdout",
     "output_type": "stream",
     "text": [
      "9\n"
     ]
    }
   ],
   "source": [
    "hole1 = ['Ah', 'Kh']\n",
    "table1 = ['Qh', 'Jh', 'Th', '9s', '8s']\n",
    "\n",
    "print(hs.highest_possibleHand(hole1, table1))"
   ]
  },
  {
   "cell_type": "code",
   "execution_count": 16,
   "id": "1dab6f9f",
   "metadata": {},
   "outputs": [],
   "source": [
    "potTest1 = ['Ah', 'Qh']\n",
    "potTable1 = ['2h', '7h', 'Jc']"
   ]
  }
 ],
 "metadata": {
  "kernelspec": {
   "display_name": "Python 3",
   "language": "python",
   "name": "python3"
  },
  "language_info": {
   "codemirror_mode": {
    "name": "ipython",
    "version": 3
   },
   "file_extension": ".py",
   "mimetype": "text/x-python",
   "name": "python",
   "nbconvert_exporter": "python",
   "pygments_lexer": "ipython3",
   "version": "3.12.4"
  }
 },
 "nbformat": 4,
 "nbformat_minor": 5
}

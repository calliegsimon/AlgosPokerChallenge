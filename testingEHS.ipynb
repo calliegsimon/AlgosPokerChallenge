{
 "cells": [
  {
   "cell_type": "markdown",
   "id": "29f80b1f",
   "metadata": {},
   "source": []
  },
  {
   "cell_type": "code",
   "execution_count": null,
   "id": "aa6378fa",
   "metadata": {},
   "outputs": [],
   "source": [
    "from TexasPokeEm import handstrength as hs\n"
   ]
  },
  {
   "cell_type": "code",
   "execution_count": 2,
   "id": "de38fafd",
   "metadata": {},
   "outputs": [],
   "source": [
    "from itertools import combinations\n",
    "\n",
    "#dictionary to store hand ranks needed for EHS\n",
    "# referenced from: https://www.kaggle.com/datasets/camillahorne/poker-hands?select=ranked_poker_hands.csv\n",
    "# ^ they also have all the possible permutations\n",
    "handRanks = {\n",
    "    #EHS needs handranks sorted weakest to strongest, ie strongest rank has highest val\n",
    "    9 : \"Royal Flush\",\n",
    "    8 : \"Straight Flush\",\n",
    "    7 : \"Four of a Kind\",\n",
    "    6 : \"Full House\",\n",
    "    5 :\"Flush\",\n",
    "    4 : \"Straight\",\n",
    "    3 : \"Three of a Kind\",\n",
    "    2 : \"Two Pair\",\n",
    "    1: \"Pair\",\n",
    "    0: \"High Card\"\n",
    "}\n",
    "\n",
    "# we are going to assign card ranks to values for ease of comparison.\n",
    "# global!\n",
    "rankValues = {\n",
    "    'A': 14,\n",
    "    'K': 13,\n",
    "    'Q': 12,\n",
    "    'J': 11,\n",
    "    'T': 10,\n",
    "    '9': 9,\n",
    "    '8': 8,\n",
    "    '7': 7,\n",
    "    '6': 6,\n",
    "    '5': 5,\n",
    "    '4': 4,\n",
    "    '3': 3,\n",
    "    '2': 2\n",
    "}\n",
    "\n",
    "# here we are making our \n",
    "ranks = ['2', '3', '4', '5', '6', '7', '8', '9', 'T', 'J', 'Q', 'K', 'A']\n",
    "suits = ['h', 'd', 'c', 's']  # hearts, diamonds, clubs, spades\n",
    "\n",
    "deck = [rank + suit for rank in ranks for suit in suits]"
   ]
  },
  {
   "cell_type": "code",
   "execution_count": null,
   "id": "1dab6f9f",
   "metadata": {},
   "outputs": [],
   "source": [
    "test1 = ['Jd', '5d']\n",
    "\n",
    "deckRemains = [cd for cd in deck if]"
   ]
  }
 ],
 "metadata": {
  "kernelspec": {
   "display_name": "Python 3",
   "language": "python",
   "name": "python3"
  },
  "language_info": {
   "codemirror_mode": {
    "name": "ipython",
    "version": 3
   },
   "file_extension": ".py",
   "mimetype": "text/x-python",
   "name": "python",
   "nbconvert_exporter": "python",
   "pygments_lexer": "ipython3",
   "version": "3.12.4"
  }
 },
 "nbformat": 4,
 "nbformat_minor": 5
}
